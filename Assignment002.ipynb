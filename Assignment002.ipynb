{
  "nbformat": 4,
  "nbformat_minor": 0,
  "metadata": {
    "colab": {
      "name": "Assignment002.ipynb",
      "provenance": [],
      "mount_file_id": "19aXDOKDLJXdXAeOQ1JfVF0BW4to7IyB5",
      "authorship_tag": "ABX9TyPHhsYRMvFgbqUh5v4Hk0V/",
      "include_colab_link": true
    },
    "kernelspec": {
      "name": "python3",
      "display_name": "Python 3"
    },
    "language_info": {
      "name": "python"
    }
  },
  "cells": [
    {
      "cell_type": "markdown",
      "metadata": {
        "id": "view-in-github",
        "colab_type": "text"
      },
      "source": [
        "<a href=\"https://colab.research.google.com/github/ebukaN/Hello-World/blob/master/Assignment002.ipynb\" target=\"_parent\"><img src=\"https://colab.research.google.com/assets/colab-badge.svg\" alt=\"Open In Colab\"/></a>"
      ]
    },
    {
      "cell_type": "markdown",
      "metadata": {
        "id": "8fRjisFk-WRn"
      },
      "source": [
        "File Data Sturctures in Python"
      ]
    },
    {
      "cell_type": "markdown",
      "metadata": {
        "id": "ykLLkpfn-uJ0"
      },
      "source": [
        "There are two types of files python handles.\n",
        "\n",
        "\n",
        "*   Binary - Document files: .pdf, .doc, .xls etc.\n",
        "Image files: .png, .jpg, .gif, .bmp etc.\n",
        "Video files: .mp4, .3gp, .mkv, .avi etc.\n",
        "Audio files: .mp3, .wav, .mka, .aac etc.\n",
        "Database files: .mdb, .accde, .frm, .sqlite etc.\n",
        "Archive files: .zip, .rar, .iso, .7z etc.\n",
        "Executable files: .exe, .dll, .class etc\n",
        "\n",
        "*   text - Web standards: html, XML, CSS, JSON etc.\n",
        "Source code: c, app, js, py, java etc.\n",
        "Documents: txt, tex, RTF etc.\n",
        "Tabular data: csv, tsv etc.\n",
        "Configuration: ini, cfg, reg etc.\n",
        "\n"
      ]
    },
    {
      "cell_type": "markdown",
      "metadata": {
        "id": "C1gS4hnS_qLN"
      },
      "source": [
        "For setting and viewing directory, rename, delete you need to import the Operating system os module"
      ]
    },
    {
      "cell_type": "code",
      "metadata": {
        "id": "cyZIuOJrcAPZ"
      },
      "source": [
        "#importing os module\n",
        "import os\n"
      ],
      "execution_count": null,
      "outputs": []
    },
    {
      "cell_type": "code",
      "metadata": {
        "id": "aIM4AHcQdGc1"
      },
      "source": [
        "#changing the working directory path and verify\n",
        "path=\"/home/working folder\"\n",
        "os.chdir(path)"
      ],
      "execution_count": null,
      "outputs": []
    },
    {
      "cell_type": "code",
      "metadata": {
        "colab": {
          "base_uri": "https://localhost:8080/",
          "height": 35
        },
        "id": "urF1iRWwdgj4",
        "outputId": "9f0bfb24-d464-4acb-92b8-ce339475ca6d"
      },
      "source": [
        "#verfying the new directory\n",
        "os.getcwd()"
      ],
      "execution_count": null,
      "outputs": [
        {
          "output_type": "execute_result",
          "data": {
            "application/vnd.google.colaboratory.intrinsic+json": {
              "type": "string"
            },
            "text/plain": [
              "'/home/working folder'"
            ]
          },
          "metadata": {
            "tags": []
          },
          "execution_count": 4
        }
      ]
    },
    {
      "cell_type": "markdown",
      "metadata": {
        "id": "ZvgIWBRzAt9_"
      },
      "source": [
        "Most important file handling funtions include open, read, write, close; others include rename and delete function which need os module imported to the used"
      ]
    },
    {
      "cell_type": "code",
      "metadata": {
        "id": "VHfG9db_fpqT",
        "colab": {
          "base_uri": "https://localhost:8080/"
        },
        "outputId": "1094b825-110c-4bbb-906f-3bfa0fa7552d"
      },
      "source": [
        "#opening and showing a file\n",
        "file_object = open(\"/home/working folder/bakori  katsina.txt\", \"r\")\n",
        "print(file_object.read())"
      ],
      "execution_count": null,
      "outputs": [
        {
          "output_type": "stream",
          "text": [
            "For Bakori\n",
            "$bakori = [1 => 'bakori B', 2 => 'others'];\n",
            "\n",
            "For Bakori B\n",
            "$bakori_b_community = [1 => 'adako', 2 => 'bakori gari kofar fada', 3 => 'gandun sarki abarshi', 4 => 'gidan alhaji barka ruga', 5 => 'gidan gaga', 6 => 'gidan kandamau', 7 => 'gidan kogo'];\n",
            "\n",
            "$bakori_b_community2 = [8 => 'gidan maicibi', 9 => 'gidan mayaki', 10 => 'hayin gada', 11 => 'kadirawa', 12 => 'karin kudu', 13 => 'karofin takalma', 14 => 'kokabo'];\n",
            "\n",
            "$bakori_b_community_3 = [15 => 'sabuwar abuja a', 16 => 'sabuwar abuja b', 17 => 'unguwar alkali', 18 => 'unguwar babeli', 19 => 'unguwar bala kurma', 20 => 'unguwar fulani', 21 => 'unguwar hazo']; \n",
            "\n",
            "$bakori_b_community_4 = [22 => 'unguwar jama are', 23 => 'unguwar ma aru', 24 => 'unguwar nasarawa', 25 => 'unguwar sanyi', 26 => 'unguwar yan lambu', 27 => 'unguwar yaro gidan laddo', 28 => 'yar yara']; \n",
            "\n",
            "\n",
            "$bakori_b_community_5 = [29 => 'zage zagi', 30 => 'unguwar dinya', 31 => 'others'];\n",
            "\n",
            "\n"
          ],
          "name": "stdout"
        }
      ]
    },
    {
      "cell_type": "code",
      "metadata": {
        "colab": {
          "base_uri": "https://localhost:8080/"
        },
        "id": "GeeS4R16h7s_",
        "outputId": "832584af-59a6-48fd-b2e3-554bc5192a89"
      },
      "source": [
        "#reading the first 20 chararcters of the file\n",
        "file_object = open(\"/home/working folder/bakori  katsina.txt\", \"r\")\n",
        "print(file_object.read(100))"
      ],
      "execution_count": null,
      "outputs": [
        {
          "output_type": "stream",
          "text": [
            "For Bakori\n",
            "$bakori = [1 => 'bakori B', 2 => 'others'];\n",
            "\n",
            "For Bakori B\n",
            "$bakori_b_community = [1 => 'ad\n"
          ],
          "name": "stdout"
        }
      ]
    },
    {
      "cell_type": "code",
      "metadata": {
        "id": "ToeTFO0vxepD",
        "colab": {
          "base_uri": "https://localhost:8080/"
        },
        "outputId": "81cd377c-d433-4136-d534-9d41d7b78efb"
      },
      "source": [
        "#writing to files\n",
        "empty_file = open(\"/home/working folder/test_empty.txt\", \"w\")\n",
        "empty_file.write(\"Hello World\")\n",
        "empty_file.write(\"\\nthank you\")\n",
        "empty_file.write(\"\\nHuru School\\n\")\n",
        "empty_file.write(\"Data Science\")\n"
      ],
      "execution_count": null,
      "outputs": [
        {
          "output_type": "execute_result",
          "data": {
            "text/plain": [
              "12"
            ]
          },
          "metadata": {
            "tags": []
          },
          "execution_count": 17
        }
      ]
    },
    {
      "cell_type": "code",
      "metadata": {
        "id": "5E817Vfe7QDX"
      },
      "source": [
        "#appending to files\n",
        "empty_file.write(\"\\npython digital inclusion test assignment\")\n",
        "empty_file = open(\"/home/working folder/test_empty.txt\", \"a\")\n"
      ],
      "execution_count": null,
      "outputs": []
    },
    {
      "cell_type": "code",
      "metadata": {
        "id": "JvUVqxckDaq0"
      },
      "source": [
        "#renaming files\n",
        "import os\n",
        "os.rename(\"yenegoa bayelsa.txt\", \"yenegoa bayelsa rename.txt\")"
      ],
      "execution_count": null,
      "outputs": []
    }
  ]
}